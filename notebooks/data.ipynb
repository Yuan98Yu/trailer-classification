{
 "metadata": {
  "language_info": {
   "codemirror_mode": {
    "name": "ipython",
    "version": 3
   },
   "file_extension": ".py",
   "mimetype": "text/x-python",
   "name": "python",
   "nbconvert_exporter": "python",
   "pygments_lexer": "ipython3",
   "version": "3.9.1-final"
  },
  "orig_nbformat": 2,
  "kernelspec": {
   "name": "python391jvsc74a57bd01cf78cca13970d80a338afa68b61a5f69aebb270b5c839e5bacde3a2a105ceb4",
   "display_name": "Python 3.9.1 64-bit ('pytorch17': conda)"
  }
 },
 "nbformat": 4,
 "nbformat_minor": 2,
 "cells": [
  {
   "cell_type": "code",
   "execution_count": 8,
   "metadata": {},
   "outputs": [],
   "source": [
    "\n",
    "import os\n",
    "import glob\n",
    "from PIL import Image\n",
    "import shutil\n",
    "\n",
    "root = '/home/yuanyu/projects/trailer_project/data/trailer_imgs'"
   ]
  },
  {
   "cell_type": "code",
   "execution_count": 9,
   "metadata": {},
   "outputs": [
    {
     "output_type": "stream",
     "name": "stdout",
     "text": [
      "5757\n"
     ]
    }
   ],
   "source": [
    "img_list = glob.glob(root+'/*/*.jpg')\n",
    "print(len(img_list))"
   ]
  },
  {
   "cell_type": "code",
   "execution_count": 10,
   "metadata": {},
   "outputs": [
    {
     "output_type": "stream",
     "name": "stdout",
     "text": [
      "OSError, Path: /home/yuanyu/projects/trailer_project/data/trailer_imgs/exist/188a373894d14a00a17d1fe4448b7c54.jpg\n",
      "removed /home/yuanyu/projects/trailer_project/data/trailer_imgs/exist/188a373894d14a00a17d1fe4448b7c54.jpg\n",
      "OSError, Path: /home/yuanyu/projects/trailer_project/data/trailer_imgs/exist/181aa3d34b1f4d5386f83b04dcc38d50.jpg\n",
      "removed /home/yuanyu/projects/trailer_project/data/trailer_imgs/exist/181aa3d34b1f4d5386f83b04dcc38d50.jpg\n"
     ]
    }
   ],
   "source": [
    "removed_count = 0\n",
    "for imgpath in img_list:\n",
    "    try:\n",
    "        img = Image.open(imgpath)\n",
    " \n",
    "    except(OSError, NameError):\n",
    "        print('OSError, Path:',imgpath)\n",
    "        os.remove(imgpath)\n",
    "        removed_count += 1\n",
    "        print('removed', imgpath)"
   ]
  },
  {
   "cell_type": "code",
   "execution_count": 11,
   "metadata": {},
   "outputs": [
    {
     "output_type": "stream",
     "name": "stdout",
     "text": [
      "2684\n3071\n"
     ]
    }
   ],
   "source": [
    "exist_img_list = glob.glob(root + '/exist/*.jpg')\n",
    "no_img_list = glob.glob(root + '/no/*.jpg')\n",
    "print(len(exist_img_list))\n",
    "print(len(no_img_list))"
   ]
  },
  {
   "cell_type": "code",
   "execution_count": null,
   "metadata": {},
   "outputs": [],
   "source": []
  }
 ]
}